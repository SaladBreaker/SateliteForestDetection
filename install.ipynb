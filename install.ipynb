{
 "cells": [
  {
   "cell_type": "markdown",
   "metadata": {},
   "source": [
    "## Use this to install reqirements inside online editors (like jupyter and colab)"
   ]
  },
  {
   "cell_type": "code",
   "execution_count": 3,
   "metadata": {},
   "outputs": [
    {
     "name": "stdout",
     "output_type": "stream",
     "text": [
      "Requirement already satisfied: matplotlib in /opt/conda/lib/python3.8/site-packages (3.3.3)\n",
      "Requirement already satisfied: pillow>=6.2.0 in /opt/conda/lib/python3.8/site-packages (from matplotlib) (8.0.1)\n",
      "Requirement already satisfied: pyparsing!=2.0.4,!=2.1.2,!=2.1.6,>=2.0.3 in /opt/conda/lib/python3.8/site-packages (from matplotlib) (2.4.7)\n",
      "Requirement already satisfied: numpy>=1.15 in /opt/conda/lib/python3.8/site-packages (from matplotlib) (1.18.5)\n",
      "Requirement already satisfied: kiwisolver>=1.0.1 in /opt/conda/lib/python3.8/site-packages (from matplotlib) (1.3.1)\n",
      "Requirement already satisfied: python-dateutil>=2.1 in /opt/conda/lib/python3.8/site-packages (from matplotlib) (2.8.1)\n",
      "Requirement already satisfied: cycler>=0.10 in /opt/conda/lib/python3.8/site-packages (from matplotlib) (0.10.0)\n",
      "Requirement already satisfied: six>=1.5 in /opt/conda/lib/python3.8/site-packages (from python-dateutil>=2.1->matplotlib) (1.15.0)\n",
      "Collecting geopandas\n",
      "  Downloading geopandas-0.8.2-py2.py3-none-any.whl (962 kB)\n",
      "\u001b[K     |████████████████████████████████| 962 kB 4.3 MB/s eta 0:00:01     |██████████████████████▏         | 665 kB 4.3 MB/s eta 0:00:01\n",
      "\u001b[?25hCollecting fiona\n",
      "  Downloading Fiona-1.8.18-cp38-cp38-manylinux1_x86_64.whl (14.7 MB)\n",
      "\u001b[K     |████████████████████████████████| 14.7 MB 15.7 MB/s eta 0:00:01\n",
      "\u001b[?25hCollecting pyproj>=2.2.0\n",
      "  Downloading pyproj-3.0.0.post1-cp38-cp38-manylinux2010_x86_64.whl (6.5 MB)\n",
      "\u001b[K     |████████████████████████████████| 6.5 MB 69.1 MB/s eta 0:00:01\n",
      "\u001b[?25hCollecting shapely\n",
      "  Downloading Shapely-1.7.1-cp38-cp38-manylinux1_x86_64.whl (1.0 MB)\n",
      "\u001b[K     |████████████████████████████████| 1.0 MB 54.4 MB/s eta 0:00:01\n",
      "\u001b[?25hRequirement already satisfied: pandas>=0.23.0 in /opt/conda/lib/python3.8/site-packages (from geopandas) (1.1.4)\n",
      "Requirement already satisfied: click<8,>=4.0 in /opt/conda/lib/python3.8/site-packages (from fiona->geopandas) (7.1.2)\n",
      "Requirement already satisfied: click-plugins>=1.0 in /opt/conda/lib/python3.8/site-packages (from fiona->geopandas) (1.1.1)\n",
      "Requirement already satisfied: six>=1.7 in /opt/conda/lib/python3.8/site-packages (from fiona->geopandas) (1.15.0)\n",
      "Requirement already satisfied: attrs>=17 in /opt/conda/lib/python3.8/site-packages (from fiona->geopandas) (20.3.0)\n",
      "Collecting munch\n",
      "  Downloading munch-2.5.0-py2.py3-none-any.whl (10 kB)\n",
      "Requirement already satisfied: cligj>=0.5 in /opt/conda/lib/python3.8/site-packages (from fiona->geopandas) (0.7.0)\n",
      "Requirement already satisfied: certifi in /opt/conda/lib/python3.8/site-packages (from fiona->geopandas) (2020.11.8)\n",
      "Requirement already satisfied: python-dateutil>=2.7.3 in /opt/conda/lib/python3.8/site-packages (from pandas>=0.23.0->geopandas) (2.8.1)\n",
      "Requirement already satisfied: pytz>=2017.2 in /opt/conda/lib/python3.8/site-packages (from pandas>=0.23.0->geopandas) (2020.4)\n",
      "Requirement already satisfied: numpy>=1.15.4 in /opt/conda/lib/python3.8/site-packages (from pandas>=0.23.0->geopandas) (1.18.5)\n",
      "Installing collected packages: munch, fiona, pyproj, shapely, geopandas\n",
      "Successfully installed fiona-1.8.18 geopandas-0.8.2 munch-2.5.0 pyproj-3.0.0.post1 shapely-1.7.1\n",
      "Requirement already satisfied: Shapely in /opt/conda/lib/python3.8/site-packages (1.7.1)\n",
      "Collecting folium\n",
      "  Downloading folium-0.12.1-py2.py3-none-any.whl (94 kB)\n",
      "\u001b[K     |████████████████████████████████| 94 kB 2.3 MB/s eta 0:00:011\n",
      "\u001b[?25hRequirement already satisfied: requests in /opt/conda/lib/python3.8/site-packages (from folium) (2.25.0)\n",
      "Requirement already satisfied: numpy in /opt/conda/lib/python3.8/site-packages (from folium) (1.18.5)\n",
      "Requirement already satisfied: jinja2>=2.9 in /opt/conda/lib/python3.8/site-packages (from folium) (2.11.2)\n",
      "Requirement already satisfied: branca>=0.3.0 in /opt/conda/lib/python3.8/site-packages (from folium) (0.3.1)\n",
      "Requirement already satisfied: certifi>=2017.4.17 in /opt/conda/lib/python3.8/site-packages (from requests->folium) (2020.11.8)\n",
      "Requirement already satisfied: idna<3,>=2.5 in /opt/conda/lib/python3.8/site-packages (from requests->folium) (2.10)\n",
      "Requirement already satisfied: urllib3<1.27,>=1.21.1 in /opt/conda/lib/python3.8/site-packages (from requests->folium) (1.25.11)\n",
      "Requirement already satisfied: chardet<4,>=3.0.2 in /opt/conda/lib/python3.8/site-packages (from requests->folium) (3.0.4)\n",
      "Requirement already satisfied: MarkupSafe>=0.23 in /opt/conda/lib/python3.8/site-packages (from jinja2>=2.9->folium) (1.1.1)\n",
      "Requirement already satisfied: six in /opt/conda/lib/python3.8/site-packages (from branca>=0.3.0->folium) (1.15.0)\n",
      "Installing collected packages: folium\n",
      "Successfully installed folium-0.12.1\n",
      "Requirement already satisfied: rasterio in /opt/conda/lib/python3.8/site-packages (1.1.8)\n",
      "Requirement already satisfied: affine in /opt/conda/lib/python3.8/site-packages (from rasterio) (2.3.0)\n",
      "Requirement already satisfied: attrs in /opt/conda/lib/python3.8/site-packages (from rasterio) (20.3.0)\n",
      "Requirement already satisfied: numpy in /opt/conda/lib/python3.8/site-packages (from rasterio) (1.18.5)\n",
      "Requirement already satisfied: cligj>=0.5 in /opt/conda/lib/python3.8/site-packages (from rasterio) (0.7.0)\n",
      "Requirement already satisfied: click<8,>=4.0 in /opt/conda/lib/python3.8/site-packages (from rasterio) (7.1.2)\n",
      "Requirement already satisfied: snuggs>=1.4.1 in /opt/conda/lib/python3.8/site-packages (from rasterio) (1.4.7)\n",
      "Requirement already satisfied: click-plugins in /opt/conda/lib/python3.8/site-packages (from rasterio) (1.1.1)\n",
      "Requirement already satisfied: pyparsing>=2.1.6 in /opt/conda/lib/python3.8/site-packages (from snuggs>=1.4.1->rasterio) (2.4.7)\n",
      "Collecting sentinelsat\n",
      "  Downloading sentinelsat-0.14-py2.py3-none-any.whl (36 kB)\n",
      "Requirement already satisfied: requests in /opt/conda/lib/python3.8/site-packages (from sentinelsat) (2.25.0)\n",
      "Requirement already satisfied: six in /opt/conda/lib/python3.8/site-packages (from sentinelsat) (1.15.0)\n",
      "Requirement already satisfied: tqdm in /opt/conda/lib/python3.8/site-packages (from sentinelsat) (4.51.0)\n",
      "Requirement already satisfied: click in /opt/conda/lib/python3.8/site-packages (from sentinelsat) (7.1.2)\n",
      "Collecting geojson>=2\n",
      "  Downloading geojson-2.5.0-py2.py3-none-any.whl (14 kB)\n",
      "Collecting html2text\n",
      "  Downloading html2text-2020.1.16-py3-none-any.whl (32 kB)\n",
      "Collecting geomet\n",
      "  Downloading geomet-0.3.0-py3-none-any.whl (28 kB)\n",
      "Requirement already satisfied: idna<3,>=2.5 in /opt/conda/lib/python3.8/site-packages (from requests->sentinelsat) (2.10)\n",
      "Requirement already satisfied: certifi>=2017.4.17 in /opt/conda/lib/python3.8/site-packages (from requests->sentinelsat) (2020.11.8)\n",
      "Requirement already satisfied: chardet<4,>=3.0.2 in /opt/conda/lib/python3.8/site-packages (from requests->sentinelsat) (3.0.4)\n",
      "Requirement already satisfied: urllib3<1.27,>=1.21.1 in /opt/conda/lib/python3.8/site-packages (from requests->sentinelsat) (1.25.11)\n",
      "Installing collected packages: geojson, html2text, geomet, sentinelsat\n",
      "Successfully installed geojson-2.5.0 geomet-0.3.0 html2text-2020.1.16 sentinelsat-0.14\n"
     ]
    }
   ],
   "source": [
    "! pip3 install matplotlib\n",
    "! pip3 install geopandas \n",
    "! pip3 install Shapely \n",
    "! pip3 install folium \n",
    "! pip3 install rasterio\n",
    "! pip3 install sentinelsat "
   ]
  },
  {
   "cell_type": "code",
   "execution_count": null,
   "metadata": {},
   "outputs": [],
   "source": []
  }
 ],
 "metadata": {
  "kernelspec": {
   "display_name": "Python 3",
   "language": "python",
   "name": "python3"
  },
  "language_info": {
   "codemirror_mode": {
    "name": "ipython",
    "version": 3
   },
   "file_extension": ".py",
   "mimetype": "text/x-python",
   "name": "python",
   "nbconvert_exporter": "python",
   "pygments_lexer": "ipython3",
   "version": "3.8.6"
  }
 },
 "nbformat": 4,
 "nbformat_minor": 4
}
