{
 "cells": [
  {
   "cell_type": "code",
   "execution_count": 1,
   "metadata": {},
   "outputs": [],
   "source": [
    "from sentinelsat import SentinelAPI\n",
    "from shapely.geometry import Point, Polygon\n",
    "import dask \n",
    "import matplotlib.pyplot as plt\n",
    "import zipfile\n",
    "import geopandas as gpd\n",
    "import threading\n",
    "import folium\n",
    "import rasterio as rio\n",
    "import os\n",
    "\n",
    "import numpy as np\n",
    "np.seterr(divide='ignore', invalid='ignore')\n",
    "\n",
    "from src.dumper import Santinel2Dumper\n",
    "from src.manager import Santinel2Manager\n",
    "from src.misc import MapManager\n",
    "\n",
    "\n",
    "REDOWNLOAD = False\n",
    "\n",
    "DOWNLOAD_PATH=\"./satelite_datasets\"\n",
    "RESULTS_PATH = \"./satelite_results\"\n",
    "\n"
   ]
  },
  {
   "cell_type": "markdown",
   "metadata": {},
   "source": [
    "## Set and view the chose target data"
   ]
  },
  {
   "cell_type": "code",
   "execution_count": 2,
   "metadata": {},
   "outputs": [
    {
     "output_type": "execute_result",
     "data": {
      "text/plain": [
       "<folium.folium.Map at 0x7f870333ed00>"
      ],
      "text/html": "<div style=\"width:100%;\"><div style=\"position:relative;width:100%;height:0;padding-bottom:60%;\"><span style=\"color:#565656\">Make this Notebook Trusted to load map: File -> Trust Notebook</span><iframe src=\"about:blank\" style=\"position:absolute;width:100%;height:100%;left:0;top:0;border:none !important;\" data-html=%3C%21DOCTYPE%20html%3E%0A%3Chead%3E%20%20%20%20%0A%20%20%20%20%3Cmeta%20http-equiv%3D%22content-type%22%20content%3D%22text/html%3B%20charset%3DUTF-8%22%20/%3E%0A%20%20%20%20%0A%20%20%20%20%20%20%20%20%3Cscript%3E%0A%20%20%20%20%20%20%20%20%20%20%20%20L_NO_TOUCH%20%3D%20false%3B%0A%20%20%20%20%20%20%20%20%20%20%20%20L_DISABLE_3D%20%3D%20false%3B%0A%20%20%20%20%20%20%20%20%3C/script%3E%0A%20%20%20%20%0A%20%20%20%20%3Cstyle%3Ehtml%2C%20body%20%7Bwidth%3A%20100%25%3Bheight%3A%20100%25%3Bmargin%3A%200%3Bpadding%3A%200%3B%7D%3C/style%3E%0A%20%20%20%20%3Cstyle%3E%23map%20%7Bposition%3Aabsolute%3Btop%3A0%3Bbottom%3A0%3Bright%3A0%3Bleft%3A0%3B%7D%3C/style%3E%0A%20%20%20%20%3Cscript%20src%3D%22https%3A//cdn.jsdelivr.net/npm/leaflet%401.6.0/dist/leaflet.js%22%3E%3C/script%3E%0A%20%20%20%20%3Cscript%20src%3D%22https%3A//code.jquery.com/jquery-1.12.4.min.js%22%3E%3C/script%3E%0A%20%20%20%20%3Cscript%20src%3D%22https%3A//maxcdn.bootstrapcdn.com/bootstrap/3.2.0/js/bootstrap.min.js%22%3E%3C/script%3E%0A%20%20%20%20%3Cscript%20src%3D%22https%3A//cdnjs.cloudflare.com/ajax/libs/Leaflet.awesome-markers/2.0.2/leaflet.awesome-markers.js%22%3E%3C/script%3E%0A%20%20%20%20%3Clink%20rel%3D%22stylesheet%22%20href%3D%22https%3A//cdn.jsdelivr.net/npm/leaflet%401.6.0/dist/leaflet.css%22/%3E%0A%20%20%20%20%3Clink%20rel%3D%22stylesheet%22%20href%3D%22https%3A//maxcdn.bootstrapcdn.com/bootstrap/3.2.0/css/bootstrap.min.css%22/%3E%0A%20%20%20%20%3Clink%20rel%3D%22stylesheet%22%20href%3D%22https%3A//maxcdn.bootstrapcdn.com/bootstrap/3.2.0/css/bootstrap-theme.min.css%22/%3E%0A%20%20%20%20%3Clink%20rel%3D%22stylesheet%22%20href%3D%22https%3A//maxcdn.bootstrapcdn.com/font-awesome/4.6.3/css/font-awesome.min.css%22/%3E%0A%20%20%20%20%3Clink%20rel%3D%22stylesheet%22%20href%3D%22https%3A//cdnjs.cloudflare.com/ajax/libs/Leaflet.awesome-markers/2.0.2/leaflet.awesome-markers.css%22/%3E%0A%20%20%20%20%3Clink%20rel%3D%22stylesheet%22%20href%3D%22https%3A//cdn.jsdelivr.net/gh/python-visualization/folium/folium/templates/leaflet.awesome.rotate.min.css%22/%3E%0A%20%20%20%20%0A%20%20%20%20%20%20%20%20%20%20%20%20%3Cmeta%20name%3D%22viewport%22%20content%3D%22width%3Ddevice-width%2C%0A%20%20%20%20%20%20%20%20%20%20%20%20%20%20%20%20initial-scale%3D1.0%2C%20maximum-scale%3D1.0%2C%20user-scalable%3Dno%22%20/%3E%0A%20%20%20%20%20%20%20%20%20%20%20%20%3Cstyle%3E%0A%20%20%20%20%20%20%20%20%20%20%20%20%20%20%20%20%23map_a7f98102e40c4b15947af2e8f354d689%20%7B%0A%20%20%20%20%20%20%20%20%20%20%20%20%20%20%20%20%20%20%20%20position%3A%20relative%3B%0A%20%20%20%20%20%20%20%20%20%20%20%20%20%20%20%20%20%20%20%20width%3A%20100.0%25%3B%0A%20%20%20%20%20%20%20%20%20%20%20%20%20%20%20%20%20%20%20%20height%3A%20100.0%25%3B%0A%20%20%20%20%20%20%20%20%20%20%20%20%20%20%20%20%20%20%20%20left%3A%200.0%25%3B%0A%20%20%20%20%20%20%20%20%20%20%20%20%20%20%20%20%20%20%20%20top%3A%200.0%25%3B%0A%20%20%20%20%20%20%20%20%20%20%20%20%20%20%20%20%7D%0A%20%20%20%20%20%20%20%20%20%20%20%20%3C/style%3E%0A%20%20%20%20%20%20%20%20%0A%3C/head%3E%0A%3Cbody%3E%20%20%20%20%0A%20%20%20%20%0A%20%20%20%20%20%20%20%20%20%20%20%20%3Cdiv%20class%3D%22folium-map%22%20id%3D%22map_a7f98102e40c4b15947af2e8f354d689%22%20%3E%3C/div%3E%0A%20%20%20%20%20%20%20%20%0A%3C/body%3E%0A%3Cscript%3E%20%20%20%20%0A%20%20%20%20%0A%20%20%20%20%20%20%20%20%20%20%20%20var%20map_a7f98102e40c4b15947af2e8f354d689%20%3D%20L.map%28%0A%20%20%20%20%20%20%20%20%20%20%20%20%20%20%20%20%22map_a7f98102e40c4b15947af2e8f354d689%22%2C%0A%20%20%20%20%20%20%20%20%20%20%20%20%20%20%20%20%7B%0A%20%20%20%20%20%20%20%20%20%20%20%20%20%20%20%20%20%20%20%20center%3A%20%5B46.17539585714286%2C%2024.221218571428572%5D%2C%0A%20%20%20%20%20%20%20%20%20%20%20%20%20%20%20%20%20%20%20%20crs%3A%20L.CRS.EPSG3857%2C%0A%20%20%20%20%20%20%20%20%20%20%20%20%20%20%20%20%20%20%20%20zoom%3A%2014%2C%0A%20%20%20%20%20%20%20%20%20%20%20%20%20%20%20%20%20%20%20%20zoomControl%3A%20true%2C%0A%20%20%20%20%20%20%20%20%20%20%20%20%20%20%20%20%20%20%20%20preferCanvas%3A%20false%2C%0A%20%20%20%20%20%20%20%20%20%20%20%20%20%20%20%20%7D%0A%20%20%20%20%20%20%20%20%20%20%20%20%29%3B%0A%0A%20%20%20%20%20%20%20%20%20%20%20%20%0A%0A%20%20%20%20%20%20%20%20%0A%20%20%20%20%0A%20%20%20%20%20%20%20%20%20%20%20%20var%20tile_layer_a0fc77d103024df6a64e88c58439d39e%20%3D%20L.tileLayer%28%0A%20%20%20%20%20%20%20%20%20%20%20%20%20%20%20%20%22https%3A//%7Bs%7D.tile.openstreetmap.org/%7Bz%7D/%7Bx%7D/%7By%7D.png%22%2C%0A%20%20%20%20%20%20%20%20%20%20%20%20%20%20%20%20%7B%22attribution%22%3A%20%22Data%20by%20%5Cu0026copy%3B%20%5Cu003ca%20href%3D%5C%22http%3A//openstreetmap.org%5C%22%5Cu003eOpenStreetMap%5Cu003c/a%5Cu003e%2C%20under%20%5Cu003ca%20href%3D%5C%22http%3A//www.openstreetmap.org/copyright%5C%22%5Cu003eODbL%5Cu003c/a%5Cu003e.%22%2C%20%22detectRetina%22%3A%20false%2C%20%22maxNativeZoom%22%3A%2018%2C%20%22maxZoom%22%3A%2018%2C%20%22minZoom%22%3A%200%2C%20%22noWrap%22%3A%20false%2C%20%22opacity%22%3A%201%2C%20%22subdomains%22%3A%20%22abc%22%2C%20%22tms%22%3A%20false%7D%0A%20%20%20%20%20%20%20%20%20%20%20%20%29.addTo%28map_a7f98102e40c4b15947af2e8f354d689%29%3B%0A%20%20%20%20%20%20%20%20%0A%20%20%20%20%0A%0A%20%20%20%20%20%20%20%20function%20geo_json_3d0ea215e880447db546e7a0c62a1829_onEachFeature%28feature%2C%20layer%29%20%7B%0A%20%20%20%20%20%20%20%20%20%20%20%20layer.on%28%7B%0A%20%20%20%20%20%20%20%20%20%20%20%20%7D%29%3B%0A%20%20%20%20%20%20%20%20%7D%3B%0A%20%20%20%20%20%20%20%20var%20geo_json_3d0ea215e880447db546e7a0c62a1829%20%3D%20L.geoJson%28null%2C%20%7B%0A%20%20%20%20%20%20%20%20%20%20%20%20%20%20%20%20onEachFeature%3A%20geo_json_3d0ea215e880447db546e7a0c62a1829_onEachFeature%2C%0A%20%20%20%20%20%20%20%20%20%20%20%20%0A%20%20%20%20%20%20%20%20%7D%29%3B%0A%0A%20%20%20%20%20%20%20%20function%20geo_json_3d0ea215e880447db546e7a0c62a1829_add%20%28data%29%20%7B%0A%20%20%20%20%20%20%20%20%20%20%20%20geo_json_3d0ea215e880447db546e7a0c62a1829%0A%20%20%20%20%20%20%20%20%20%20%20%20%20%20%20%20.addData%28data%29%0A%20%20%20%20%20%20%20%20%20%20%20%20%20%20%20%20.addTo%28map_a7f98102e40c4b15947af2e8f354d689%29%3B%0A%20%20%20%20%20%20%20%20%7D%0A%20%20%20%20%20%20%20%20%20%20%20%20geo_json_3d0ea215e880447db546e7a0c62a1829_add%28%7B%22bbox%22%3A%20%5B24.190559%2C%2046.147835%2C%2024.261777%2C%2046.202205%5D%2C%20%22features%22%3A%20%5B%7B%22bbox%22%3A%20%5B24.190559%2C%2046.147835%2C%2024.261777%2C%2046.202205%5D%2C%20%22geometry%22%3A%20%7B%22coordinates%22%3A%20%5B%5B%5B24.197322%2C%2046.202205%5D%2C%20%5B24.220021%2C%2046.194055%5D%2C%20%5B24.261777%2C%2046.179938%5D%2C%20%5B24.257313%2C%2046.147835%5D%2C%20%5B24.209952%2C%2046.154057%5D%2C%20%5B24.211586%2C%2046.170317%5D%2C%20%5B24.190559%2C%2046.179364%5D%2C%20%5B24.197322%2C%2046.202205%5D%5D%5D%2C%20%22type%22%3A%20%22Polygon%22%7D%2C%20%22id%22%3A%20%220%22%2C%20%22properties%22%3A%20%7B%7D%2C%20%22type%22%3A%20%22Feature%22%7D%5D%2C%20%22type%22%3A%20%22FeatureCollection%22%7D%29%3B%0A%0A%20%20%20%20%20%20%20%20%0A%3C/script%3E onload=\"this.contentDocument.open();this.contentDocument.write(    decodeURIComponent(this.getAttribute('data-html')));this.contentDocument.close();\" allowfullscreen webkitallowfullscreen mozallowfullscreen></iframe></div></div>"
     },
     "metadata": {},
     "execution_count": 2
    }
   ],
   "source": [
    "# create target poligon\n",
    "# coordonates of forest near Medias,Sibiu\n",
    "TARGET_SHAPE = [\n",
    "    (24.197322, 46.202205), \n",
    "    (24.220021, 46.194055), \n",
    "    (24.261777, 46.179938),  \n",
    "    (24.257313, 46.147835),\n",
    "    (24.209952, 46.154057),\n",
    "    (24.211586, 46.170317),\n",
    "    (24.190559, 46.179364)\n",
    "]\n",
    "\n",
    "\n",
    "# display map\n",
    "MapManager.get_map_with_target(TARGET_SHAPE)\n"
   ]
  },
  {
   "cell_type": "markdown",
   "metadata": {},
   "source": [
    "## See what data is available "
   ]
  },
  {
   "cell_type": "code",
   "execution_count": 3,
   "metadata": {
    "scrolled": true
   },
   "outputs": [
    {
     "output_type": "stream",
     "name": "stderr",
     "text": [
      "2021-02-24 23:21:23:    INFO: [sentinelsat.SentinelAPI]: Found 25 products\n"
     ]
    },
    {
     "output_type": "execute_result",
     "data": {
      "text/plain": [
       "Index(['title', 'link', 'link_alternative', 'link_icon', 'summary', 'ondemand',\n",
       "       'beginposition', 'endposition', 'ingestiondate', 'orbitnumber',\n",
       "       'relativeorbitnumber', 'vegetationpercentage', 'notvegetatedpercentage',\n",
       "       'waterpercentage', 'unclassifiedpercentage',\n",
       "       'mediumprobacloudspercentage', 'highprobacloudspercentage',\n",
       "       'snowicepercentage', 'cloudcoverpercentage', 'level1cpdiidentifier',\n",
       "       'format', 'processingbaseline', 'platformname', 'filename',\n",
       "       'instrumentname', 'instrumentshortname', 'size', 's2datatakeid',\n",
       "       'producttype', 'platformidentifier', 'orbitdirection',\n",
       "       'platformserialidentifier', 'processinglevel', 'identifier', 'uuid',\n",
       "       'geometry'],\n",
       "      dtype='object')"
      ]
     },
     "metadata": {},
     "execution_count": 3
    }
   ],
   "source": [
    "# get query results \n",
    "dumper = Santinel2Dumper()\n",
    "\n",
    "products_gdf = dumper.get_products_from_query(\n",
    "    Polygon(TARGET_SHAPE),\n",
    "    date_range=(\"20190930\", \"20201030\")\n",
    ")\n",
    "\n",
    "products_gdf_sorted = products_gdf.sort_values(['beginposition'], ascending=[True])\n",
    "products_gdf_sorted.columns"
   ]
  },
  {
   "cell_type": "markdown",
   "metadata": {},
   "source": [
    "## Targets"
   ]
  },
  {
   "cell_type": "code",
   "execution_count": 4,
   "metadata": {},
   "outputs": [
    {
     "output_type": "execute_result",
     "data": {
      "text/plain": [
       "                                                                                  title  \\\n",
       "92f702c0-bcbf-41fc-ad92-6e7ee27e8c04  S2B_MSIL2A_20191001T092029_N0213_R093_T34TGS_2...   \n",
       "acab8fba-5ee4-40d9-bf4d-529abee4f1bc  S2A_MSIL2A_20201020T092031_N0214_R093_T34TGS_2...   \n",
       "\n",
       "                                               beginposition  \\\n",
       "92f702c0-bcbf-41fc-ad92-6e7ee27e8c04 2019-10-01 09:20:29.024   \n",
       "acab8fba-5ee4-40d9-bf4d-529abee4f1bc 2020-10-20 09:20:31.025   \n",
       "\n",
       "                                                                                summary  \\\n",
       "92f702c0-bcbf-41fc-ad92-6e7ee27e8c04  Date: 2019-10-01T09:20:29.024Z, Instrument: MS...   \n",
       "acab8fba-5ee4-40d9-bf4d-529abee4f1bc  Date: 2020-10-20T09:20:31.025Z, Instrument: MS...   \n",
       "\n",
       "                                      vegetationpercentage  \n",
       "92f702c0-bcbf-41fc-ad92-6e7ee27e8c04             61.325228  \n",
       "acab8fba-5ee4-40d9-bf4d-529abee4f1bc             66.946751  "
      ],
      "text/html": "<div>\n<style scoped>\n    .dataframe tbody tr th:only-of-type {\n        vertical-align: middle;\n    }\n\n    .dataframe tbody tr th {\n        vertical-align: top;\n    }\n\n    .dataframe thead th {\n        text-align: right;\n    }\n</style>\n<table border=\"1\" class=\"dataframe\">\n  <thead>\n    <tr style=\"text-align: right;\">\n      <th></th>\n      <th>title</th>\n      <th>beginposition</th>\n      <th>summary</th>\n      <th>vegetationpercentage</th>\n    </tr>\n  </thead>\n  <tbody>\n    <tr>\n      <th>92f702c0-bcbf-41fc-ad92-6e7ee27e8c04</th>\n      <td>S2B_MSIL2A_20191001T092029_N0213_R093_T34TGS_2...</td>\n      <td>2019-10-01 09:20:29.024</td>\n      <td>Date: 2019-10-01T09:20:29.024Z, Instrument: MS...</td>\n      <td>61.325228</td>\n    </tr>\n    <tr>\n      <th>acab8fba-5ee4-40d9-bf4d-529abee4f1bc</th>\n      <td>S2A_MSIL2A_20201020T092031_N0214_R093_T34TGS_2...</td>\n      <td>2020-10-20 09:20:31.025</td>\n      <td>Date: 2020-10-20T09:20:31.025Z, Instrument: MS...</td>\n      <td>66.946751</td>\n    </tr>\n  </tbody>\n</table>\n</div>"
     },
     "metadata": {},
     "execution_count": 4
    }
   ],
   "source": [
    "# look for a close vegetationpercentage\n",
    "targets = products_gdf_sorted.iloc[[0, -1]]\n",
    "targets[[\"title\",\"beginposition\",\"summary\",\"vegetationpercentage\"]]"
   ]
  },
  {
   "cell_type": "markdown",
   "metadata": {},
   "source": [
    "## Download the query results"
   ]
  },
  {
   "cell_type": "code",
   "execution_count": 5,
   "metadata": {
    "tags": []
   },
   "outputs": [
    {
     "output_type": "stream",
     "name": "stdout",
     "text": [
      "Redownload is set to false\n"
     ]
    }
   ],
   "source": [
    "if REDOWNLOAD:\n",
    "    dumper.download_satelite_data(targets.iloc[ 0].uuid,DOWNLOAD_PATH)\n",
    "    dumper.download_satelite_data(targets.iloc[-1].uuid,DOWNLOAD_PATH)\n",
    "else:\n",
    "    print(\"Redownload is set to false\")\n"
   ]
  },
  {
   "source": [
    "## Assamble data from old imagery"
   ],
   "cell_type": "markdown",
   "metadata": {}
  },
  {
   "cell_type": "code",
   "execution_count": 6,
   "metadata": {},
   "outputs": [
    {
     "output_type": "stream",
     "name": "stderr",
     "text": [
      "2021-02-24 23:21:23:    INFO: [Santinel2Manager]: Reading dataset from: ./satelite_datasets/S2B_MSIL2A_20191001T092029_N0213_R093_T34TGS_20191001T133427.zip\n"
     ]
    }
   ],
   "source": [
    "manager_old = Santinel2Manager(f\"{DOWNLOAD_PATH}/{targets.iloc[0].title}.zip\")"
   ]
  },
  {
   "cell_type": "code",
   "execution_count": 7,
   "metadata": {},
   "outputs": [
    {
     "output_type": "stream",
     "name": "stderr",
     "text": [
      "2021-02-24 23:21:23:    INFO: [Santinel2Manager]: Getting R10m for ./satelite_datasets/S2B_MSIL2A_20191001T092029_N0213_R093_T34TGS_20191001T133427.zip\n",
      "2021-02-24 23:21:23:    INFO: [Santinel2Manager]: Assambling NDVI image!\n",
      "2021-02-24 23:21:23:    INFO: [Santinel2Manager]: Getting R10m for ./satelite_datasets/S2B_MSIL2A_20191001T092029_N0213_R093_T34TGS_20191001T133427.zip\n",
      "2021-02-24 23:21:33:    INFO: [Santinel2Manager]: Finnished assambling NDVI image!\n"
     ]
    },
    {
     "output_type": "error",
     "ename": "TypeError",
     "evalue": "get_NDVI_vegetation_only() missing 1 required positional argument: 'threshold'",
     "traceback": [
      "\u001b[0;31m---------------------------------------------------------------------------\u001b[0m",
      "\u001b[0;31mTypeError\u001b[0m                                 Traceback (most recent call last)",
      "\u001b[0;32m<timed exec>\u001b[0m in \u001b[0;36m<module>\u001b[0;34m\u001b[0m\n",
      "\u001b[0;31mTypeError\u001b[0m: get_NDVI_vegetation_only() missing 1 required positional argument: 'threshold'"
     ]
    }
   ],
   "source": [
    "%%time\n",
    "THRESHOLD = .7\n",
    "_meta = manager_old.get_R10m_reader().meta\n",
    "old_img_NDVI = manager_old.get_NDVI()\n",
    "old_img_NDVI_veg = manager_old.get_NDVI_vegetation_only(THRESHOLD)"
   ]
  },
  {
   "cell_type": "code",
   "execution_count": null,
   "metadata": {},
   "outputs": [],
   "source": [
    "%%time\n",
    "\n",
    "old_manager_old.write_image(old_img_NDVI,_meta,f\"{RESULTS_PATH}/{targets.iloc[0].title}/NDVI.tiff\")\n",
    "old_manager_old.write_image(old_img_NDVI_veg,_meta,f\"{RESULTS_PATH}/{targets.iloc[0].title}/NDVI_veg.tiff\")\n",
    "\n"
   ]
  },
  {
   "cell_type": "code",
   "execution_count": null,
   "metadata": {},
   "outputs": [],
   "source": [
    "%%time\n",
    "\n",
    "manager_old.crop_image(\n",
    "    f\"{RESULTS_PATH}/{targets.iloc[0].title}/NDVI.tiff\",\n",
    "    f\"{RESULTS_PATH}/{targets.iloc[0].title}/cropped_NDVI.tif\",\n",
    "    Polygon(TARGET_SHAPE)\n",
    ")\n",
    "manager_old.crop_image(\n",
    "    f\"{RESULTS_PATH}/{targets.iloc[0].title}/NDVI_veg.tiff\",\n",
    "    f\"{RESULTS_PATH}/{targets.iloc[0].title}/cropped_NDVI_veg.tif\",\n",
    "    Polygon(TARGET_SHAPE)\n",
    ")"
   ]
  },
  {
   "source": [
    "## Assamble data from new imagery"
   ],
   "cell_type": "markdown",
   "metadata": {}
  },
  {
   "cell_type": "code",
   "execution_count": null,
   "metadata": {},
   "outputs": [],
   "source": [
    "manager_new = Santinel2Manager(f\"{DOWNLOAD_PATH}/{targets.iloc[-1].title}.zip\")"
   ]
  },
  {
   "cell_type": "code",
   "execution_count": null,
   "metadata": {},
   "outputs": [],
   "source": [
    "%%time\n",
    "\n",
    "_meta = manager_new.get_R10m_reader().meta\n",
    "new_img_NDVI = manager_new.get_NDVI()\n",
    "new_img_NDVI_veg = manager_new.get_NDVI_vegetation_only()"
   ]
  },
  {
   "cell_type": "code",
   "execution_count": null,
   "metadata": {},
   "outputs": [],
   "source": [
    "%%time\n",
    "\n",
    "manager_new.write_image(new_img_NDVI,_meta,f\"{RESULTS_PATH}/{targets.iloc[-1].title}/NDVI.tiff\")\n",
    "manager_new.write_image(new_img_NDVI_veg,_meta,f\"{RESULTS_PATH}/{targets.iloc[-1].title}/NDVI_veg.tiff\")"
   ]
  },
  {
   "cell_type": "code",
   "execution_count": null,
   "metadata": {},
   "outputs": [],
   "source": [
    "%%time\n",
    "\n",
    "manager_new.crop_image(\n",
    "    f\"{RESULTS_PATH}/{targets.iloc[-1].title}/NDVI.tiff\",\n",
    "    f\"{RESULTS_PATH}/{targets.iloc[-1].title}/cropped_NDVI.tif\",\n",
    "    Polygon(TARGET_SHAPE)\n",
    ")\n",
    "manager_new.crop_image(\n",
    "    f\"{RESULTS_PATH}/{targets.iloc[-1].title}/NDVI_veg.tiff\",\n",
    "    f\"{RESULTS_PATH}/{targets.iloc[-1].title}/cropped_NDVI_veg.tif\",\n",
    "    Polygon(TARGET_SHAPE)\n",
    ")"
   ]
  },
  {
   "cell_type": "code",
   "execution_count": null,
   "metadata": {},
   "outputs": [],
   "source": []
  }
 ],
 "metadata": {
  "kernelspec": {
   "name": "python3",
   "display_name": "Python 3",
   "language": "python"
  },
  "language_info": {
   "codemirror_mode": {
    "name": "ipython",
    "version": 3
   },
   "file_extension": ".py",
   "mimetype": "text/x-python",
   "name": "python",
   "nbconvert_exporter": "python",
   "pygments_lexer": "ipython3",
   "version": "3.8.5-final"
  }
 },
 "nbformat": 4,
 "nbformat_minor": 4
}
