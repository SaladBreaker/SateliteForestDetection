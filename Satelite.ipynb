{
 "cells": [
  {
   "cell_type": "code",
   "execution_count": 2,
   "metadata": {},
   "outputs": [
    {
     "name": "stdout",
     "output_type": "stream",
     "text": [
      "Collecting matplotlib\n",
      "  Downloading matplotlib-3.6.3-cp310-cp310-win_amd64.whl (7.2 MB)\n",
      "     ---------------------------------------- 7.2/7.2 MB 1.4 MB/s eta 0:00:00\n",
      "Requirement already satisfied: python-dateutil>=2.7 in c:\\users\\vlad\\pycharmprojects\\sateliteforestdetection\\.venv\\lib\\site-packages (from matplotlib) (2.8.2)\n",
      "Requirement already satisfied: pyparsing>=2.2.1 in c:\\users\\vlad\\pycharmprojects\\sateliteforestdetection\\.venv\\lib\\site-packages (from matplotlib) (2.4.7)\n",
      "Collecting fonttools>=4.22.0\n",
      "  Downloading fonttools-4.38.0-py3-none-any.whl (965 kB)\n",
      "     -------------------------------------- 965.4/965.4 kB 1.4 MB/s eta 0:00:00\n",
      "Collecting cycler>=0.10\n",
      "  Downloading cycler-0.11.0-py3-none-any.whl (6.4 kB)\n",
      "Collecting contourpy>=1.0.1\n",
      "  Downloading contourpy-1.0.7-cp310-cp310-win_amd64.whl (162 kB)\n",
      "     -------------------------------------- 163.0/163.0 kB 1.1 MB/s eta 0:00:00\n",
      "Requirement already satisfied: packaging>=20.0 in c:\\users\\vlad\\pycharmprojects\\sateliteforestdetection\\.venv\\lib\\site-packages (from matplotlib) (23.0)\n",
      "Collecting pillow>=6.2.0\n",
      "  Downloading Pillow-9.4.0-cp310-cp310-win_amd64.whl (2.5 MB)\n",
      "     ---------------------------------------- 2.5/2.5 MB 1.4 MB/s eta 0:00:00\n",
      "Collecting kiwisolver>=1.0.1\n",
      "  Downloading kiwisolver-1.4.4-cp310-cp310-win_amd64.whl (55 kB)\n",
      "     ---------------------------------------- 55.3/55.3 kB 2.8 MB/s eta 0:00:00\n",
      "Collecting numpy>=1.19\n",
      "  Downloading numpy-1.24.1-cp310-cp310-win_amd64.whl (14.8 MB)\n",
      "     ---------------------------------------- 14.8/14.8 MB 1.4 MB/s eta 0:00:00\n",
      "Requirement already satisfied: six>=1.5 in c:\\users\\vlad\\pycharmprojects\\sateliteforestdetection\\.venv\\lib\\site-packages (from python-dateutil>=2.7->matplotlib) (1.15.0)\n",
      "Installing collected packages: pillow, numpy, kiwisolver, fonttools, cycler, contourpy, matplotlib\n",
      "Successfully installed contourpy-1.0.7 cycler-0.11.0 fonttools-4.38.0 kiwisolver-1.4.4 matplotlib-3.6.3 numpy-1.24.1 pillow-9.4.0\n",
      "Collecting geopandas\n",
      "  Downloading geopandas-0.12.2-py3-none-any.whl (1.1 MB)\n",
      "     ---------------------------------------- 1.1/1.1 MB 1.3 MB/s eta 0:00:00\n",
      "Collecting shapely>=1.7\n",
      "  Downloading shapely-2.0.0-cp310-cp310-win_amd64.whl (1.4 MB)\n",
      "     ---------------------------------------- 1.4/1.4 MB 1.4 MB/s eta 0:00:00\n",
      "Requirement already satisfied: packaging in c:\\users\\vlad\\pycharmprojects\\sateliteforestdetection\\.venv\\lib\\site-packages (from geopandas) (23.0)\n",
      "Collecting pyproj>=2.6.1.post1\n",
      "  Downloading pyproj-3.4.1-cp310-cp310-win_amd64.whl (4.8 MB)\n",
      "     ---------------------------------------- 4.8/4.8 MB 1.4 MB/s eta 0:00:00\n",
      "Collecting pandas>=1.0.0\n",
      "  Downloading pandas-1.5.2-cp310-cp310-win_amd64.whl (10.4 MB)\n",
      "     ---------------------------------------- 10.4/10.4 MB 1.4 MB/s eta 0:00:00\n",
      "Collecting fiona>=1.8\n",
      "  Downloading Fiona-1.8.22-cp310-cp310-win_amd64.whl (21.7 MB)\n",
      "     ---------------------------------------- 21.7/21.7 MB 1.4 MB/s eta 0:00:00\n",
      "Requirement already satisfied: certifi in c:\\users\\vlad\\pycharmprojects\\sateliteforestdetection\\.venv\\lib\\site-packages (from fiona>=1.8->geopandas) (2020.12.5)\n",
      "Requirement already satisfied: setuptools in c:\\users\\vlad\\pycharmprojects\\sateliteforestdetection\\.venv\\lib\\site-packages (from fiona>=1.8->geopandas) (65.6.3)\n",
      "Requirement already satisfied: cligj>=0.5 in c:\\users\\vlad\\pycharmprojects\\sateliteforestdetection\\.venv\\lib\\site-packages (from fiona>=1.8->geopandas) (0.7.1)\n",
      "Requirement already satisfied: munch in c:\\users\\vlad\\pycharmprojects\\sateliteforestdetection\\.venv\\lib\\site-packages (from fiona>=1.8->geopandas) (2.5.0)\n",
      "Requirement already satisfied: six>=1.7 in c:\\users\\vlad\\pycharmprojects\\sateliteforestdetection\\.venv\\lib\\site-packages (from fiona>=1.8->geopandas) (1.15.0)\n",
      "Requirement already satisfied: attrs>=17 in c:\\users\\vlad\\pycharmprojects\\sateliteforestdetection\\.venv\\lib\\site-packages (from fiona>=1.8->geopandas) (20.3.0)\n",
      "Requirement already satisfied: click-plugins>=1.0 in c:\\users\\vlad\\pycharmprojects\\sateliteforestdetection\\.venv\\lib\\site-packages (from fiona>=1.8->geopandas) (1.1.1)\n",
      "Requirement already satisfied: click>=4.0 in c:\\users\\vlad\\pycharmprojects\\sateliteforestdetection\\.venv\\lib\\site-packages (from fiona>=1.8->geopandas) (7.1.2)\n",
      "Requirement already satisfied: pytz>=2020.1 in c:\\users\\vlad\\pycharmprojects\\sateliteforestdetection\\.venv\\lib\\site-packages (from pandas>=1.0.0->geopandas) (2020.5)\n",
      "Requirement already satisfied: python-dateutil>=2.8.1 in c:\\users\\vlad\\pycharmprojects\\sateliteforestdetection\\.venv\\lib\\site-packages (from pandas>=1.0.0->geopandas) (2.8.2)\n",
      "Requirement already satisfied: numpy>=1.21.0 in c:\\users\\vlad\\pycharmprojects\\sateliteforestdetection\\.venv\\lib\\site-packages (from pandas>=1.0.0->geopandas) (1.24.1)\n",
      "Installing collected packages: shapely, pyproj, pandas, fiona, geopandas\n",
      "Successfully installed fiona-1.8.22 geopandas-0.12.2 pandas-1.5.2 pyproj-3.4.1 shapely-2.0.0\n",
      "Requirement already satisfied: Shapely in c:\\users\\vlad\\pycharmprojects\\sateliteforestdetection\\.venv\\lib\\site-packages (2.0.0)\n",
      "Requirement already satisfied: numpy>=1.14 in c:\\users\\vlad\\pycharmprojects\\sateliteforestdetection\\.venv\\lib\\site-packages (from Shapely) (1.24.1)\n",
      "Collecting folium\n",
      "  Downloading folium-0.14.0-py2.py3-none-any.whl (102 kB)\n",
      "     ------------------------------------ 102.3/102.3 kB 844.4 kB/s eta 0:00:00\n",
      "Collecting requests\n",
      "  Using cached requests-2.28.2-py3-none-any.whl (62 kB)\n",
      "Requirement already satisfied: numpy in c:\\users\\vlad\\pycharmprojects\\sateliteforestdetection\\.venv\\lib\\site-packages (from folium) (1.24.1)\n",
      "Collecting branca>=0.6.0\n",
      "  Downloading branca-0.6.0-py3-none-any.whl (24 kB)\n",
      "Requirement already satisfied: jinja2>=2.9 in c:\\users\\vlad\\pycharmprojects\\sateliteforestdetection\\.venv\\lib\\site-packages (from folium) (3.1.2)\n",
      "Requirement already satisfied: MarkupSafe>=2.0 in c:\\users\\vlad\\pycharmprojects\\sateliteforestdetection\\.venv\\lib\\site-packages (from jinja2>=2.9->folium) (2.1.1)\n",
      "Requirement already satisfied: urllib3<1.27,>=1.21.1 in c:\\users\\vlad\\pycharmprojects\\sateliteforestdetection\\.venv\\lib\\site-packages (from requests->folium) (1.26.3)\n",
      "Requirement already satisfied: idna<4,>=2.5 in c:\\users\\vlad\\pycharmprojects\\sateliteforestdetection\\.venv\\lib\\site-packages (from requests->folium) (2.10)\n",
      "Requirement already satisfied: certifi>=2017.4.17 in c:\\users\\vlad\\pycharmprojects\\sateliteforestdetection\\.venv\\lib\\site-packages (from requests->folium) (2020.12.5)\n",
      "Collecting charset-normalizer<4,>=2\n",
      "  Using cached charset_normalizer-3.0.1-cp310-cp310-win_amd64.whl (96 kB)\n",
      "Installing collected packages: charset-normalizer, requests, branca, folium\n",
      "Successfully installed branca-0.6.0 charset-normalizer-3.0.1 folium-0.14.0 requests-2.28.2\n",
      "Collecting rasterio\n",
      "  Downloading rasterio-1.3.4-cp310-cp310-win_amd64.whl (22.2 MB)\n",
      "     ---------------------------------------- 22.2/22.2 MB 1.3 MB/s eta 0:00:00\n",
      "Requirement already satisfied: setuptools in c:\\users\\vlad\\pycharmprojects\\sateliteforestdetection\\.venv\\lib\\site-packages (from rasterio) (65.6.3)\n",
      "Requirement already satisfied: cligj>=0.5 in c:\\users\\vlad\\pycharmprojects\\sateliteforestdetection\\.venv\\lib\\site-packages (from rasterio) (0.7.1)\n",
      "Requirement already satisfied: numpy>=1.18 in c:\\users\\vlad\\pycharmprojects\\sateliteforestdetection\\.venv\\lib\\site-packages (from rasterio) (1.24.1)\n",
      "Requirement already satisfied: click-plugins in c:\\users\\vlad\\pycharmprojects\\sateliteforestdetection\\.venv\\lib\\site-packages (from rasterio) (1.1.1)\n",
      "Requirement already satisfied: attrs in c:\\users\\vlad\\pycharmprojects\\sateliteforestdetection\\.venv\\lib\\site-packages (from rasterio) (20.3.0)\n",
      "Collecting snuggs>=1.4.1\n",
      "  Downloading snuggs-1.4.7-py3-none-any.whl (5.4 kB)\n",
      "Requirement already satisfied: click>=4.0 in c:\\users\\vlad\\pycharmprojects\\sateliteforestdetection\\.venv\\lib\\site-packages (from rasterio) (7.1.2)\n",
      "Collecting affine\n",
      "  Downloading affine-2.3.1-py2.py3-none-any.whl (16 kB)\n",
      "Requirement already satisfied: certifi in c:\\users\\vlad\\pycharmprojects\\sateliteforestdetection\\.venv\\lib\\site-packages (from rasterio) (2020.12.5)\n",
      "Requirement already satisfied: pyparsing>=2.1.6 in c:\\users\\vlad\\pycharmprojects\\sateliteforestdetection\\.venv\\lib\\site-packages (from snuggs>=1.4.1->rasterio) (2.4.7)\n",
      "Installing collected packages: affine, snuggs, rasterio\n",
      "Successfully installed affine-2.3.1 rasterio-1.3.4 snuggs-1.4.7\n"
     ]
    },
    {
     "name": "stdout",
     "output_type": "stream",
     "text": [
      "Collecting sentinelsat\n",
      "  Downloading sentinelsat-1.1.1-py3-none-any.whl (48 kB)\n",
      "     -------------------------------------- 48.7/48.7 kB 414.0 kB/s eta 0:00:00\n",
      "Requirement already satisfied: click>=7.1 in c:\\users\\vlad\\pycharmprojects\\sateliteforestdetection\\.venv\\lib\\site-packages (from sentinelsat) (7.1.2)\n",
      "Collecting tqdm>=4.58\n",
      "  Downloading tqdm-4.64.1-py2.py3-none-any.whl (78 kB)\n",
      "     ---------------------------------------- 78.5/78.5 kB 1.1 MB/s eta 0:00:00\n",
      "Requirement already satisfied: requests in c:\\users\\vlad\\pycharmprojects\\sateliteforestdetection\\.venv\\lib\\site-packages (from sentinelsat) (2.28.2)\n",
      "Collecting geojson>=2\n",
      "  Downloading geojson-2.5.0-py2.py3-none-any.whl (14 kB)\n",
      "Collecting geomet\n",
      "  Downloading geomet-1.0.0-py3-none-any.whl (28 kB)\n",
      "Collecting html2text\n",
      "  Downloading html2text-2020.1.16-py3-none-any.whl (32 kB)\n",
      "Requirement already satisfied: colorama in c:\\users\\vlad\\pycharmprojects\\sateliteforestdetection\\.venv\\lib\\site-packages (from tqdm>=4.58->sentinelsat) (0.4.6)\n",
      "Requirement already satisfied: six in c:\\users\\vlad\\pycharmprojects\\sateliteforestdetection\\.venv\\lib\\site-packages (from geomet->sentinelsat) (1.15.0)\n",
      "Requirement already satisfied: charset-normalizer<4,>=2 in c:\\users\\vlad\\pycharmprojects\\sateliteforestdetection\\.venv\\lib\\site-packages (from requests->sentinelsat) (3.0.1)\n",
      "Requirement already satisfied: idna<4,>=2.5 in c:\\users\\vlad\\pycharmprojects\\sateliteforestdetection\\.venv\\lib\\site-packages (from requests->sentinelsat) (2.10)\n",
      "Requirement already satisfied: certifi>=2017.4.17 in c:\\users\\vlad\\pycharmprojects\\sateliteforestdetection\\.venv\\lib\\site-packages (from requests->sentinelsat) (2020.12.5)\n",
      "Requirement already satisfied: urllib3<1.27,>=1.21.1 in c:\\users\\vlad\\pycharmprojects\\sateliteforestdetection\\.venv\\lib\\site-packages (from requests->sentinelsat) (1.26.3)\n",
      "Installing collected packages: geojson, tqdm, html2text, geomet, sentinelsat\n",
      "Successfully installed geojson-2.5.0 geomet-1.0.0 html2text-2020.1.16 sentinelsat-1.1.1 tqdm-4.64.1\n"
     ]
    }
   ],
   "source": [
    "! pip3 install matplotlib\n",
    "! pip3 install geopandas \n",
    "! pip3 install Shapely \n",
    "! pip3 install folium \n",
    "! pip3 install rasterio\n",
    "! pip3 install sentinelsat "
   ]
  },
  {
   "cell_type": "code",
   "execution_count": 1,
   "metadata": {},
   "outputs": [
    {
     "ename": "ModuleNotFoundError",
     "evalue": "No module named 'sentinelsat'",
     "output_type": "error",
     "traceback": [
      "\u001B[1;31m---------------------------------------------------------------------------\u001B[0m",
      "\u001B[1;31mModuleNotFoundError\u001B[0m                       Traceback (most recent call last)",
      "Cell \u001B[1;32mIn[1], line 1\u001B[0m\n\u001B[1;32m----> 1\u001B[0m \u001B[38;5;28;01mfrom\u001B[39;00m \u001B[38;5;21;01msentinelsat\u001B[39;00m \u001B[38;5;28;01mimport\u001B[39;00m SentinelAPI\n\u001B[0;32m      2\u001B[0m \u001B[38;5;28;01mfrom\u001B[39;00m \u001B[38;5;21;01mshapely\u001B[39;00m\u001B[38;5;21;01m.\u001B[39;00m\u001B[38;5;21;01mgeometry\u001B[39;00m \u001B[38;5;28;01mimport\u001B[39;00m Point, Polygon\n\u001B[0;32m      3\u001B[0m \u001B[38;5;28;01mimport\u001B[39;00m \u001B[38;5;21;01mdask\u001B[39;00m \n",
      "\u001B[1;31mModuleNotFoundError\u001B[0m: No module named 'sentinelsat'"
     ]
    }
   ],
   "source": [
    "from sentinelsat import SentinelAPI\n",
    "from shapely.geometry import Point, Polygon\n",
    "import dask \n",
    "import matplotlib.pyplot as plt\n",
    "import zipfile\n",
    "import geopandas as gpd\n",
    "import threading\n",
    "import folium\n",
    "import rasterio as rio\n",
    "import os\n",
    "\n",
    "import numpy as np\n",
    "np.seterr(divide='ignore', invalid='ignore')\n",
    "\n",
    "from src.dumper import Santinel2Dumper\n",
    "from src.manager import Santinel2Manager\n",
    "from src.misc import MapManager\n",
    "\n",
    "\n",
    "REDOWNLOAD = True\n",
    "\n",
    "DOWNLOAD_PATH=\"./satelite_datasets\"\n",
    "RESULTS_PATH = \"./satelite_results\"\n",
    "\n"
   ]
  },
  {
   "cell_type": "markdown",
   "metadata": {},
   "source": [
    "## Set and view the chose target data"
   ]
  },
  {
   "cell_type": "code",
   "execution_count": 2,
   "metadata": {},
   "outputs": [
    {
     "data": {
      "text/html": [
       "<div style=\"width:100%;\"><div style=\"position:relative;width:100%;height:0;padding-bottom:60%;\"><span style=\"color:#565656\">Make this Notebook Trusted to load map: File -> Trust Notebook</span><iframe src=\"about:blank\" style=\"position:absolute;width:100%;height:100%;left:0;top:0;border:none !important;\" data-html=%3C%21DOCTYPE%20html%3E%0A%3Chead%3E%20%20%20%20%0A%20%20%20%20%3Cmeta%20http-equiv%3D%22content-type%22%20content%3D%22text/html%3B%20charset%3DUTF-8%22%20/%3E%0A%20%20%20%20%0A%20%20%20%20%20%20%20%20%3Cscript%3E%0A%20%20%20%20%20%20%20%20%20%20%20%20L_NO_TOUCH%20%3D%20false%3B%0A%20%20%20%20%20%20%20%20%20%20%20%20L_DISABLE_3D%20%3D%20false%3B%0A%20%20%20%20%20%20%20%20%3C/script%3E%0A%20%20%20%20%0A%20%20%20%20%3Cstyle%3Ehtml%2C%20body%20%7Bwidth%3A%20100%25%3Bheight%3A%20100%25%3Bmargin%3A%200%3Bpadding%3A%200%3B%7D%3C/style%3E%0A%20%20%20%20%3Cstyle%3E%23map%20%7Bposition%3Aabsolute%3Btop%3A0%3Bbottom%3A0%3Bright%3A0%3Bleft%3A0%3B%7D%3C/style%3E%0A%20%20%20%20%3Cscript%20src%3D%22https%3A//cdn.jsdelivr.net/npm/leaflet%401.6.0/dist/leaflet.js%22%3E%3C/script%3E%0A%20%20%20%20%3Cscript%20src%3D%22https%3A//code.jquery.com/jquery-1.12.4.min.js%22%3E%3C/script%3E%0A%20%20%20%20%3Cscript%20src%3D%22https%3A//maxcdn.bootstrapcdn.com/bootstrap/3.2.0/js/bootstrap.min.js%22%3E%3C/script%3E%0A%20%20%20%20%3Cscript%20src%3D%22https%3A//cdnjs.cloudflare.com/ajax/libs/Leaflet.awesome-markers/2.0.2/leaflet.awesome-markers.js%22%3E%3C/script%3E%0A%20%20%20%20%3Clink%20rel%3D%22stylesheet%22%20href%3D%22https%3A//cdn.jsdelivr.net/npm/leaflet%401.6.0/dist/leaflet.css%22/%3E%0A%20%20%20%20%3Clink%20rel%3D%22stylesheet%22%20href%3D%22https%3A//maxcdn.bootstrapcdn.com/bootstrap/3.2.0/css/bootstrap.min.css%22/%3E%0A%20%20%20%20%3Clink%20rel%3D%22stylesheet%22%20href%3D%22https%3A//maxcdn.bootstrapcdn.com/bootstrap/3.2.0/css/bootstrap-theme.min.css%22/%3E%0A%20%20%20%20%3Clink%20rel%3D%22stylesheet%22%20href%3D%22https%3A//maxcdn.bootstrapcdn.com/font-awesome/4.6.3/css/font-awesome.min.css%22/%3E%0A%20%20%20%20%3Clink%20rel%3D%22stylesheet%22%20href%3D%22https%3A//cdnjs.cloudflare.com/ajax/libs/Leaflet.awesome-markers/2.0.2/leaflet.awesome-markers.css%22/%3E%0A%20%20%20%20%3Clink%20rel%3D%22stylesheet%22%20href%3D%22https%3A//cdn.jsdelivr.net/gh/python-visualization/folium/folium/templates/leaflet.awesome.rotate.min.css%22/%3E%0A%20%20%20%20%0A%20%20%20%20%20%20%20%20%20%20%20%20%3Cmeta%20name%3D%22viewport%22%20content%3D%22width%3Ddevice-width%2C%0A%20%20%20%20%20%20%20%20%20%20%20%20%20%20%20%20initial-scale%3D1.0%2C%20maximum-scale%3D1.0%2C%20user-scalable%3Dno%22%20/%3E%0A%20%20%20%20%20%20%20%20%20%20%20%20%3Cstyle%3E%0A%20%20%20%20%20%20%20%20%20%20%20%20%20%20%20%20%23map_a7f98102e40c4b15947af2e8f354d689%20%7B%0A%20%20%20%20%20%20%20%20%20%20%20%20%20%20%20%20%20%20%20%20position%3A%20relative%3B%0A%20%20%20%20%20%20%20%20%20%20%20%20%20%20%20%20%20%20%20%20width%3A%20100.0%25%3B%0A%20%20%20%20%20%20%20%20%20%20%20%20%20%20%20%20%20%20%20%20height%3A%20100.0%25%3B%0A%20%20%20%20%20%20%20%20%20%20%20%20%20%20%20%20%20%20%20%20left%3A%200.0%25%3B%0A%20%20%20%20%20%20%20%20%20%20%20%20%20%20%20%20%20%20%20%20top%3A%200.0%25%3B%0A%20%20%20%20%20%20%20%20%20%20%20%20%20%20%20%20%7D%0A%20%20%20%20%20%20%20%20%20%20%20%20%3C/style%3E%0A%20%20%20%20%20%20%20%20%0A%3C/head%3E%0A%3Cbody%3E%20%20%20%20%0A%20%20%20%20%0A%20%20%20%20%20%20%20%20%20%20%20%20%3Cdiv%20class%3D%22folium-map%22%20id%3D%22map_a7f98102e40c4b15947af2e8f354d689%22%20%3E%3C/div%3E%0A%20%20%20%20%20%20%20%20%0A%3C/body%3E%0A%3Cscript%3E%20%20%20%20%0A%20%20%20%20%0A%20%20%20%20%20%20%20%20%20%20%20%20var%20map_a7f98102e40c4b15947af2e8f354d689%20%3D%20L.map%28%0A%20%20%20%20%20%20%20%20%20%20%20%20%20%20%20%20%22map_a7f98102e40c4b15947af2e8f354d689%22%2C%0A%20%20%20%20%20%20%20%20%20%20%20%20%20%20%20%20%7B%0A%20%20%20%20%20%20%20%20%20%20%20%20%20%20%20%20%20%20%20%20center%3A%20%5B46.17539585714286%2C%2024.221218571428572%5D%2C%0A%20%20%20%20%20%20%20%20%20%20%20%20%20%20%20%20%20%20%20%20crs%3A%20L.CRS.EPSG3857%2C%0A%20%20%20%20%20%20%20%20%20%20%20%20%20%20%20%20%20%20%20%20zoom%3A%2014%2C%0A%20%20%20%20%20%20%20%20%20%20%20%20%20%20%20%20%20%20%20%20zoomControl%3A%20true%2C%0A%20%20%20%20%20%20%20%20%20%20%20%20%20%20%20%20%20%20%20%20preferCanvas%3A%20false%2C%0A%20%20%20%20%20%20%20%20%20%20%20%20%20%20%20%20%7D%0A%20%20%20%20%20%20%20%20%20%20%20%20%29%3B%0A%0A%20%20%20%20%20%20%20%20%20%20%20%20%0A%0A%20%20%20%20%20%20%20%20%0A%20%20%20%20%0A%20%20%20%20%20%20%20%20%20%20%20%20var%20tile_layer_a0fc77d103024df6a64e88c58439d39e%20%3D%20L.tileLayer%28%0A%20%20%20%20%20%20%20%20%20%20%20%20%20%20%20%20%22https%3A//%7Bs%7D.tile.openstreetmap.org/%7Bz%7D/%7Bx%7D/%7By%7D.png%22%2C%0A%20%20%20%20%20%20%20%20%20%20%20%20%20%20%20%20%7B%22attribution%22%3A%20%22Data%20by%20%5Cu0026copy%3B%20%5Cu003ca%20href%3D%5C%22http%3A//openstreetmap.org%5C%22%5Cu003eOpenStreetMap%5Cu003c/a%5Cu003e%2C%20under%20%5Cu003ca%20href%3D%5C%22http%3A//www.openstreetmap.org/copyright%5C%22%5Cu003eODbL%5Cu003c/a%5Cu003e.%22%2C%20%22detectRetina%22%3A%20false%2C%20%22maxNativeZoom%22%3A%2018%2C%20%22maxZoom%22%3A%2018%2C%20%22minZoom%22%3A%200%2C%20%22noWrap%22%3A%20false%2C%20%22opacity%22%3A%201%2C%20%22subdomains%22%3A%20%22abc%22%2C%20%22tms%22%3A%20false%7D%0A%20%20%20%20%20%20%20%20%20%20%20%20%29.addTo%28map_a7f98102e40c4b15947af2e8f354d689%29%3B%0A%20%20%20%20%20%20%20%20%0A%20%20%20%20%0A%0A%20%20%20%20%20%20%20%20function%20geo_json_3d0ea215e880447db546e7a0c62a1829_onEachFeature%28feature%2C%20layer%29%20%7B%0A%20%20%20%20%20%20%20%20%20%20%20%20layer.on%28%7B%0A%20%20%20%20%20%20%20%20%20%20%20%20%7D%29%3B%0A%20%20%20%20%20%20%20%20%7D%3B%0A%20%20%20%20%20%20%20%20var%20geo_json_3d0ea215e880447db546e7a0c62a1829%20%3D%20L.geoJson%28null%2C%20%7B%0A%20%20%20%20%20%20%20%20%20%20%20%20%20%20%20%20onEachFeature%3A%20geo_json_3d0ea215e880447db546e7a0c62a1829_onEachFeature%2C%0A%20%20%20%20%20%20%20%20%20%20%20%20%0A%20%20%20%20%20%20%20%20%7D%29%3B%0A%0A%20%20%20%20%20%20%20%20function%20geo_json_3d0ea215e880447db546e7a0c62a1829_add%20%28data%29%20%7B%0A%20%20%20%20%20%20%20%20%20%20%20%20geo_json_3d0ea215e880447db546e7a0c62a1829%0A%20%20%20%20%20%20%20%20%20%20%20%20%20%20%20%20.addData%28data%29%0A%20%20%20%20%20%20%20%20%20%20%20%20%20%20%20%20.addTo%28map_a7f98102e40c4b15947af2e8f354d689%29%3B%0A%20%20%20%20%20%20%20%20%7D%0A%20%20%20%20%20%20%20%20%20%20%20%20geo_json_3d0ea215e880447db546e7a0c62a1829_add%28%7B%22bbox%22%3A%20%5B24.190559%2C%2046.147835%2C%2024.261777%2C%2046.202205%5D%2C%20%22features%22%3A%20%5B%7B%22bbox%22%3A%20%5B24.190559%2C%2046.147835%2C%2024.261777%2C%2046.202205%5D%2C%20%22geometry%22%3A%20%7B%22coordinates%22%3A%20%5B%5B%5B24.197322%2C%2046.202205%5D%2C%20%5B24.220021%2C%2046.194055%5D%2C%20%5B24.261777%2C%2046.179938%5D%2C%20%5B24.257313%2C%2046.147835%5D%2C%20%5B24.209952%2C%2046.154057%5D%2C%20%5B24.211586%2C%2046.170317%5D%2C%20%5B24.190559%2C%2046.179364%5D%2C%20%5B24.197322%2C%2046.202205%5D%5D%5D%2C%20%22type%22%3A%20%22Polygon%22%7D%2C%20%22id%22%3A%20%220%22%2C%20%22properties%22%3A%20%7B%7D%2C%20%22type%22%3A%20%22Feature%22%7D%5D%2C%20%22type%22%3A%20%22FeatureCollection%22%7D%29%3B%0A%0A%20%20%20%20%20%20%20%20%0A%3C/script%3E onload=\"this.contentDocument.open();this.contentDocument.write(    decodeURIComponent(this.getAttribute('data-html')));this.contentDocument.close();\" allowfullscreen webkitallowfullscreen mozallowfullscreen></iframe></div></div>"
      ],
      "text/plain": [
       "<folium.folium.Map at 0x7f870333ed00>"
      ]
     },
     "execution_count": 2,
     "metadata": {},
     "output_type": "execute_result"
    }
   ],
   "source": [
    "# create target poligon\n",
    "# coordonates of forest near Medias,Sibiu\n",
    "TARGET_SHAPE = [\n",
    "    (24.197322, 46.202205), \n",
    "    (24.220021, 46.194055), \n",
    "    (24.261777, 46.179938),  \n",
    "    (24.257313, 46.147835),\n",
    "    (24.209952, 46.154057),\n",
    "    (24.211586, 46.170317),\n",
    "    (24.190559, 46.179364)\n",
    "]\n",
    "\n",
    "\n",
    "# display map\n",
    "MapManager.get_map_with_target(TARGET_SHAPE)\n"
   ]
  },
  {
   "cell_type": "markdown",
   "metadata": {},
   "source": [
    "## See what data is available "
   ]
  },
  {
   "cell_type": "code",
   "execution_count": 3,
   "metadata": {
    "scrolled": true
   },
   "outputs": [
    {
     "name": "stderr",
     "output_type": "stream",
     "text": [
      "2021-02-24 23:21:23:    INFO: [sentinelsat.SentinelAPI]: Found 25 products\n"
     ]
    },
    {
     "data": {
      "text/plain": [
       "Index(['title', 'link', 'link_alternative', 'link_icon', 'summary', 'ondemand',\n",
       "       'beginposition', 'endposition', 'ingestiondate', 'orbitnumber',\n",
       "       'relativeorbitnumber', 'vegetationpercentage', 'notvegetatedpercentage',\n",
       "       'waterpercentage', 'unclassifiedpercentage',\n",
       "       'mediumprobacloudspercentage', 'highprobacloudspercentage',\n",
       "       'snowicepercentage', 'cloudcoverpercentage', 'level1cpdiidentifier',\n",
       "       'format', 'processingbaseline', 'platformname', 'filename',\n",
       "       'instrumentname', 'instrumentshortname', 'size', 's2datatakeid',\n",
       "       'producttype', 'platformidentifier', 'orbitdirection',\n",
       "       'platformserialidentifier', 'processinglevel', 'identifier', 'uuid',\n",
       "       'geometry'],\n",
       "      dtype='object')"
      ]
     },
     "execution_count": 3,
     "metadata": {},
     "output_type": "execute_result"
    }
   ],
   "source": [
    "# get query results \n",
    "dumper = Santinel2Dumper()\n",
    "\n",
    "products_gdf = dumper.get_products_from_query(\n",
    "    Polygon(TARGET_SHAPE),\n",
    "    date_range=(\"20190930\", \"20201030\")\n",
    ")\n",
    "\n",
    "products_gdf_sorted = products_gdf.sort_values(['beginposition'], ascending=[True])\n",
    "products_gdf_sorted.columns"
   ]
  },
  {
   "cell_type": "markdown",
   "metadata": {},
   "source": [
    "## Targets"
   ]
  },
  {
   "cell_type": "code",
   "execution_count": 4,
   "metadata": {},
   "outputs": [
    {
     "data": {
      "text/html": [
       "<div>\n",
       "<style scoped>\n",
       "    .dataframe tbody tr th:only-of-type {\n",
       "        vertical-align: middle;\n",
       "    }\n",
       "\n",
       "    .dataframe tbody tr th {\n",
       "        vertical-align: top;\n",
       "    }\n",
       "\n",
       "    .dataframe thead th {\n",
       "        text-align: right;\n",
       "    }\n",
       "</style>\n",
       "<table border=\"1\" class=\"dataframe\">\n",
       "  <thead>\n",
       "    <tr style=\"text-align: right;\">\n",
       "      <th></th>\n",
       "      <th>title</th>\n",
       "      <th>beginposition</th>\n",
       "      <th>summary</th>\n",
       "      <th>vegetationpercentage</th>\n",
       "    </tr>\n",
       "  </thead>\n",
       "  <tbody>\n",
       "    <tr>\n",
       "      <th>92f702c0-bcbf-41fc-ad92-6e7ee27e8c04</th>\n",
       "      <td>S2B_MSIL2A_20191001T092029_N0213_R093_T34TGS_2...</td>\n",
       "      <td>2019-10-01 09:20:29.024</td>\n",
       "      <td>Date: 2019-10-01T09:20:29.024Z, Instrument: MS...</td>\n",
       "      <td>61.325228</td>\n",
       "    </tr>\n",
       "    <tr>\n",
       "      <th>acab8fba-5ee4-40d9-bf4d-529abee4f1bc</th>\n",
       "      <td>S2A_MSIL2A_20201020T092031_N0214_R093_T34TGS_2...</td>\n",
       "      <td>2020-10-20 09:20:31.025</td>\n",
       "      <td>Date: 2020-10-20T09:20:31.025Z, Instrument: MS...</td>\n",
       "      <td>66.946751</td>\n",
       "    </tr>\n",
       "  </tbody>\n",
       "</table>\n",
       "</div>"
      ],
      "text/plain": [
       "                                                                                  title  \\\n",
       "92f702c0-bcbf-41fc-ad92-6e7ee27e8c04  S2B_MSIL2A_20191001T092029_N0213_R093_T34TGS_2...   \n",
       "acab8fba-5ee4-40d9-bf4d-529abee4f1bc  S2A_MSIL2A_20201020T092031_N0214_R093_T34TGS_2...   \n",
       "\n",
       "                                               beginposition  \\\n",
       "92f702c0-bcbf-41fc-ad92-6e7ee27e8c04 2019-10-01 09:20:29.024   \n",
       "acab8fba-5ee4-40d9-bf4d-529abee4f1bc 2020-10-20 09:20:31.025   \n",
       "\n",
       "                                                                                summary  \\\n",
       "92f702c0-bcbf-41fc-ad92-6e7ee27e8c04  Date: 2019-10-01T09:20:29.024Z, Instrument: MS...   \n",
       "acab8fba-5ee4-40d9-bf4d-529abee4f1bc  Date: 2020-10-20T09:20:31.025Z, Instrument: MS...   \n",
       "\n",
       "                                      vegetationpercentage  \n",
       "92f702c0-bcbf-41fc-ad92-6e7ee27e8c04             61.325228  \n",
       "acab8fba-5ee4-40d9-bf4d-529abee4f1bc             66.946751  "
      ]
     },
     "execution_count": 4,
     "metadata": {},
     "output_type": "execute_result"
    }
   ],
   "source": [
    "# look for a close vegetationpercentage\n",
    "targets = products_gdf_sorted.iloc[[0, -1]]\n",
    "targets[[\"title\",\"beginposition\",\"summary\",\"vegetationpercentage\"]]"
   ]
  },
  {
   "cell_type": "markdown",
   "metadata": {},
   "source": [
    "## Download the query results"
   ]
  },
  {
   "cell_type": "code",
   "execution_count": 5,
   "metadata": {
    "tags": []
   },
   "outputs": [
    {
     "name": "stdout",
     "output_type": "stream",
     "text": [
      "Redownload is set to false\n"
     ]
    }
   ],
   "source": [
    "if REDOWNLOAD:\n",
    "    dumper.download_satelite_data(targets.iloc[ 0].uuid,DOWNLOAD_PATH)\n",
    "    dumper.download_satelite_data(targets.iloc[-1].uuid,DOWNLOAD_PATH)\n",
    "else:\n",
    "    print(\"Redownload is set to false\")\n"
   ]
  },
  {
   "cell_type": "markdown",
   "metadata": {},
   "source": [
    "## Assamble data from old imagery"
   ]
  },
  {
   "cell_type": "code",
   "execution_count": 6,
   "metadata": {},
   "outputs": [
    {
     "name": "stderr",
     "output_type": "stream",
     "text": [
      "2021-02-24 23:21:23:    INFO: [Santinel2Manager]: Reading dataset from: ./satelite_datasets/S2B_MSIL2A_20191001T092029_N0213_R093_T34TGS_20191001T133427.zip\n"
     ]
    }
   ],
   "source": [
    "manager_old = Santinel2Manager(f\"{DOWNLOAD_PATH}/{targets.iloc[0].title}.zip\")"
   ]
  },
  {
   "cell_type": "code",
   "execution_count": 7,
   "metadata": {},
   "outputs": [
    {
     "name": "stderr",
     "output_type": "stream",
     "text": [
      "2021-02-24 23:21:23:    INFO: [Santinel2Manager]: Getting R10m for ./satelite_datasets/S2B_MSIL2A_20191001T092029_N0213_R093_T34TGS_20191001T133427.zip\n",
      "2021-02-24 23:21:23:    INFO: [Santinel2Manager]: Assambling NDVI image!\n",
      "2021-02-24 23:21:23:    INFO: [Santinel2Manager]: Getting R10m for ./satelite_datasets/S2B_MSIL2A_20191001T092029_N0213_R093_T34TGS_20191001T133427.zip\n",
      "2021-02-24 23:21:33:    INFO: [Santinel2Manager]: Finnished assambling NDVI image!\n"
     ]
    },
    {
     "ename": "TypeError",
     "evalue": "get_NDVI_vegetation_only() missing 1 required positional argument: 'threshold'",
     "output_type": "error",
     "traceback": [
      "\u001B[0;31m---------------------------------------------------------------------------\u001B[0m",
      "\u001B[0;31mTypeError\u001B[0m                                 Traceback (most recent call last)",
      "\u001B[0;32m<timed exec>\u001B[0m in \u001B[0;36m<module>\u001B[0;34m\u001B[0m\n",
      "\u001B[0;31mTypeError\u001B[0m: get_NDVI_vegetation_only() missing 1 required positional argument: 'threshold'"
     ]
    }
   ],
   "source": [
    "%%time\n",
    "THRESHOLD = .7\n",
    "_meta = manager_old.get_R10m_reader().meta\n",
    "old_img_NDVI = manager_old.get_NDVI()\n",
    "old_img_NDVI_veg = manager_old.get_NDVI_vegetation_only(THRESHOLD)"
   ]
  },
  {
   "cell_type": "code",
   "execution_count": null,
   "metadata": {},
   "outputs": [],
   "source": [
    "%%time\n",
    "\n",
    "old_manager_old.write_image(old_img_NDVI,_meta,f\"{RESULTS_PATH}/{targets.iloc[0].title}/NDVI.tiff\")\n",
    "old_manager_old.write_image(old_img_NDVI_veg,_meta,f\"{RESULTS_PATH}/{targets.iloc[0].title}/NDVI_veg.tiff\")\n",
    "\n"
   ]
  },
  {
   "cell_type": "code",
   "execution_count": null,
   "metadata": {},
   "outputs": [],
   "source": [
    "%%time\n",
    "\n",
    "manager_old.crop_image(\n",
    "    f\"{RESULTS_PATH}/{targets.iloc[0].title}/NDVI.tiff\",\n",
    "    f\"{RESULTS_PATH}/{targets.iloc[0].title}/cropped_NDVI.tif\",\n",
    "    Polygon(TARGET_SHAPE)\n",
    ")\n",
    "manager_old.crop_image(\n",
    "    f\"{RESULTS_PATH}/{targets.iloc[0].title}/NDVI_veg.tiff\",\n",
    "    f\"{RESULTS_PATH}/{targets.iloc[0].title}/cropped_NDVI_veg.tif\",\n",
    "    Polygon(TARGET_SHAPE)\n",
    ")"
   ]
  },
  {
   "cell_type": "markdown",
   "metadata": {},
   "source": [
    "## Assamble data from new imagery"
   ]
  },
  {
   "cell_type": "code",
   "execution_count": null,
   "metadata": {},
   "outputs": [],
   "source": [
    "manager_new = Santinel2Manager(f\"{DOWNLOAD_PATH}/{targets.iloc[-1].title}.zip\")"
   ]
  },
  {
   "cell_type": "code",
   "execution_count": null,
   "metadata": {},
   "outputs": [],
   "source": [
    "%%time\n",
    "\n",
    "_meta = manager_new.get_R10m_reader().meta\n",
    "new_img_NDVI = manager_new.get_NDVI()\n",
    "new_img_NDVI_veg = manager_new.get_NDVI_vegetation_only()"
   ]
  },
  {
   "cell_type": "code",
   "execution_count": null,
   "metadata": {},
   "outputs": [],
   "source": [
    "%%time\n",
    "\n",
    "manager_new.write_image(new_img_NDVI,_meta,f\"{RESULTS_PATH}/{targets.iloc[-1].title}/NDVI.tiff\")\n",
    "manager_new.write_image(new_img_NDVI_veg,_meta,f\"{RESULTS_PATH}/{targets.iloc[-1].title}/NDVI_veg.tiff\")"
   ]
  },
  {
   "cell_type": "code",
   "execution_count": null,
   "metadata": {},
   "outputs": [],
   "source": [
    "%%time\n",
    "\n",
    "manager_new.crop_image(\n",
    "    f\"{RESULTS_PATH}/{targets.iloc[-1].title}/NDVI.tiff\",\n",
    "    f\"{RESULTS_PATH}/{targets.iloc[-1].title}/cropped_NDVI.tif\",\n",
    "    Polygon(TARGET_SHAPE)\n",
    ")\n",
    "manager_new.crop_image(\n",
    "    f\"{RESULTS_PATH}/{targets.iloc[-1].title}/NDVI_veg.tiff\",\n",
    "    f\"{RESULTS_PATH}/{targets.iloc[-1].title}/cropped_NDVI_veg.tif\",\n",
    "    Polygon(TARGET_SHAPE)\n",
    ")"
   ]
  },
  {
   "cell_type": "code",
   "execution_count": null,
   "metadata": {},
   "outputs": [],
   "source": []
  }
 ],
 "metadata": {
  "kernelspec": {
   "display_name": "Python 3 (ipykernel)",
   "language": "python",
   "name": "python3"
  },
  "language_info": {
   "codemirror_mode": {
    "name": "ipython",
    "version": 3
   },
   "file_extension": ".py",
   "mimetype": "text/x-python",
   "name": "python",
   "nbconvert_exporter": "python",
   "pygments_lexer": "ipython3",
   "version": "3.10.9"
  }
 },
 "nbformat": 4,
 "nbformat_minor": 4
}